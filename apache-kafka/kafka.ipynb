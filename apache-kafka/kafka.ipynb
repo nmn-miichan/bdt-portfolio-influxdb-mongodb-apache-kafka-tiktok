{
 "cells": [
  {
   "cell_type": "markdown",
   "id": "bb69b3d3",
   "metadata": {},
   "source": [
    "# Programming with kafka"
   ]
  },
  {
   "cell_type": "code",
   "execution_count": 1,
   "id": "26620b8c",
   "metadata": {},
   "outputs": [],
   "source": [
    "import warnings\n",
    "warnings.filterwarnings(\"ignore\")\n",
    "\n",
    "import matplotlib.pyplot as plt\n",
    "import pandas as pd"
   ]
  },
  {
   "cell_type": "markdown",
   "id": "ebf7e7eb",
   "metadata": {},
   "source": [
    "### 1. First, we install the Kafka Python Library"
   ]
  },
  {
   "cell_type": "code",
   "execution_count": 2,
   "id": "ebfb5ef2",
   "metadata": {},
   "outputs": [],
   "source": [
    "#!pip3 install kafka-python"
   ]
  },
  {
   "cell_type": "markdown",
   "id": "d7c90b28",
   "metadata": {},
   "source": [
    "### 2. Then, we set up the connection."
   ]
  },
  {
   "cell_type": "code",
   "execution_count": 3,
   "id": "75eccec5",
   "metadata": {},
   "outputs": [],
   "source": [
    "from kafka import KafkaProducer, KafkaConsumer\n",
    "from IPython.display import clear_output\n",
    "import json\n",
    "import time\n",
    "import random\n",
    "from datetime import datetime, timezone"
   ]
  },
  {
   "cell_type": "code",
   "execution_count": 4,
   "id": "775dc3d1",
   "metadata": {},
   "outputs": [],
   "source": [
    "producer = KafkaProducer(\n",
    "    bootstrap_servers='localhost:9092',\n",
    "    value_serializer=lambda v: json.dumps(v).encode('utf-8')\n",
    ")"
   ]
  },
  {
   "cell_type": "markdown",
   "id": "af6ef240",
   "metadata": {},
   "source": [
    "### 3. Now, we can test the database connection by accessing the previously created topic 'measurements'."
   ]
  },
  {
   "cell_type": "code",
   "execution_count": 5,
   "id": "9054f907",
   "metadata": {},
   "outputs": [
    {
     "name": "stdout",
     "output_type": "stream",
     "text": [
      "Test message sent successfully to 'measurements' topic.\n"
     ]
    }
   ],
   "source": [
    "test_message = {\n",
    "    \"timestamp\": datetime.now(timezone.utc).strftime(\"%Y-%m-%dT%H:%M:%SZ\"),\n",
    "    \"heart_rate\": 0,\n",
    "    \"blood_oxygen\": 0,\n",
    "    \"body_temperature\": 0,\n",
    "}\n",
    "producer.send(\"measurements\", test_message)\n",
    "producer.flush()\n",
    "print(\"Test message sent successfully to 'measurements' topic.\")"
   ]
  },
  {
   "cell_type": "markdown",
   "id": "b6cec54c",
   "metadata": {},
   "source": [
    "The test message was sent successfully, meaning the connection was established."
   ]
  },
  {
   "cell_type": "markdown",
   "id": "125c32e3",
   "metadata": {},
   "source": [
    "### 4. Then, we create 100 random measurements (1 per second) for health & fitness (for example from smart watch) to demonstrate data writing. For this, we use the random library."
   ]
  },
  {
   "cell_type": "code",
   "execution_count": 6,
   "id": "15a76156",
   "metadata": {},
   "outputs": [
    {
     "name": "stdout",
     "output_type": "stream",
     "text": [
      "Sent: {'timestamp': '2025-06-19T19:01:44Z', 'heart_rate': 83, 'blood_oxygen': 98.2, 'body_temperature': 36.7}\n",
      "Sent: {'timestamp': '2025-06-19T19:01:45Z', 'heart_rate': 80, 'blood_oxygen': 99.6, 'body_temperature': 36.7}\n",
      "Sent: {'timestamp': '2025-06-19T19:01:46Z', 'heart_rate': 81, 'blood_oxygen': 98.2, 'body_temperature': 36.1}\n",
      "Sent: {'timestamp': '2025-06-19T19:01:47Z', 'heart_rate': 81, 'blood_oxygen': 99.9, 'body_temperature': 36.0}\n",
      "Sent: {'timestamp': '2025-06-19T19:01:48Z', 'heart_rate': 82, 'blood_oxygen': 99.3, 'body_temperature': 36.1}\n",
      "Sent: {'timestamp': '2025-06-19T19:01:49Z', 'heart_rate': 82, 'blood_oxygen': 98.9, 'body_temperature': 36.8}\n",
      "Sent: {'timestamp': '2025-06-19T19:01:50Z', 'heart_rate': 82, 'blood_oxygen': 98.6, 'body_temperature': 36.0}\n",
      "Sent: {'timestamp': '2025-06-19T19:01:52Z', 'heart_rate': 80, 'blood_oxygen': 98.5, 'body_temperature': 36.8}\n",
      "Sent: {'timestamp': '2025-06-19T19:01:53Z', 'heart_rate': 83, 'blood_oxygen': 99.5, 'body_temperature': 36.3}\n",
      "Sent: {'timestamp': '2025-06-19T19:01:54Z', 'heart_rate': 81, 'blood_oxygen': 98.7, 'body_temperature': 36.1}\n",
      "Sent: {'timestamp': '2025-06-19T19:01:55Z', 'heart_rate': 83, 'blood_oxygen': 99.5, 'body_temperature': 36.2}\n",
      "Sent: {'timestamp': '2025-06-19T19:01:56Z', 'heart_rate': 82, 'blood_oxygen': 99.4, 'body_temperature': 36.2}\n",
      "Sent: {'timestamp': '2025-06-19T19:01:57Z', 'heart_rate': 83, 'blood_oxygen': 99.5, 'body_temperature': 36.3}\n",
      "Sent: {'timestamp': '2025-06-19T19:01:58Z', 'heart_rate': 81, 'blood_oxygen': 99.2, 'body_temperature': 36.1}\n",
      "Sent: {'timestamp': '2025-06-19T19:01:59Z', 'heart_rate': 82, 'blood_oxygen': 99.4, 'body_temperature': 36.2}\n",
      "Sent: {'timestamp': '2025-06-19T19:02:00Z', 'heart_rate': 84, 'blood_oxygen': 98.6, 'body_temperature': 36.9}\n",
      "Sent: {'timestamp': '2025-06-19T19:02:01Z', 'heart_rate': 82, 'blood_oxygen': 99.4, 'body_temperature': 36.1}\n",
      "Sent: {'timestamp': '2025-06-19T19:02:02Z', 'heart_rate': 80, 'blood_oxygen': 98.3, 'body_temperature': 36.4}\n",
      "Sent: {'timestamp': '2025-06-19T19:02:03Z', 'heart_rate': 83, 'blood_oxygen': 98.1, 'body_temperature': 36.6}\n",
      "Sent: {'timestamp': '2025-06-19T19:02:04Z', 'heart_rate': 81, 'blood_oxygen': 99.2, 'body_temperature': 36.6}\n",
      "Sent: {'timestamp': '2025-06-19T19:02:05Z', 'heart_rate': 84, 'blood_oxygen': 99.3, 'body_temperature': 36.3}\n",
      "Sent: {'timestamp': '2025-06-19T19:02:06Z', 'heart_rate': 80, 'blood_oxygen': 99.4, 'body_temperature': 36.4}\n",
      "Sent: {'timestamp': '2025-06-19T19:02:07Z', 'heart_rate': 81, 'blood_oxygen': 98.5, 'body_temperature': 36.6}\n",
      "Sent: {'timestamp': '2025-06-19T19:02:08Z', 'heart_rate': 81, 'blood_oxygen': 98.2, 'body_temperature': 36.6}\n",
      "Sent: {'timestamp': '2025-06-19T19:02:09Z', 'heart_rate': 83, 'blood_oxygen': 98.9, 'body_temperature': 36.3}\n",
      "Sent: {'timestamp': '2025-06-19T19:02:10Z', 'heart_rate': 80, 'blood_oxygen': 99.2, 'body_temperature': 36.8}\n",
      "Sent: {'timestamp': '2025-06-19T19:02:11Z', 'heart_rate': 80, 'blood_oxygen': 98.5, 'body_temperature': 36.4}\n",
      "Sent: {'timestamp': '2025-06-19T19:02:12Z', 'heart_rate': 84, 'blood_oxygen': 98.2, 'body_temperature': 36.6}\n",
      "Sent: {'timestamp': '2025-06-19T19:02:13Z', 'heart_rate': 85, 'blood_oxygen': 98.5, 'body_temperature': 36.0}\n",
      "Sent: {'timestamp': '2025-06-19T19:02:14Z', 'heart_rate': 84, 'blood_oxygen': 99.2, 'body_temperature': 36.9}\n",
      "Sent: {'timestamp': '2025-06-19T19:02:15Z', 'heart_rate': 83, 'blood_oxygen': 98.9, 'body_temperature': 36.6}\n",
      "Sent: {'timestamp': '2025-06-19T19:02:16Z', 'heart_rate': 81, 'blood_oxygen': 98.4, 'body_temperature': 36.8}\n",
      "Sent: {'timestamp': '2025-06-19T19:02:17Z', 'heart_rate': 80, 'blood_oxygen': 99.6, 'body_temperature': 36.4}\n",
      "Sent: {'timestamp': '2025-06-19T19:02:18Z', 'heart_rate': 80, 'blood_oxygen': 98.6, 'body_temperature': 36.2}\n",
      "Sent: {'timestamp': '2025-06-19T19:02:19Z', 'heart_rate': 82, 'blood_oxygen': 99.7, 'body_temperature': 36.4}\n",
      "Sent: {'timestamp': '2025-06-19T19:02:20Z', 'heart_rate': 83, 'blood_oxygen': 98.7, 'body_temperature': 37.0}\n",
      "Sent: {'timestamp': '2025-06-19T19:02:21Z', 'heart_rate': 80, 'blood_oxygen': 99.1, 'body_temperature': 36.3}\n",
      "Sent: {'timestamp': '2025-06-19T19:02:22Z', 'heart_rate': 83, 'blood_oxygen': 99.8, 'body_temperature': 36.5}\n",
      "Sent: {'timestamp': '2025-06-19T19:02:23Z', 'heart_rate': 82, 'blood_oxygen': 99.2, 'body_temperature': 36.6}\n",
      "Sent: {'timestamp': '2025-06-19T19:02:24Z', 'heart_rate': 85, 'blood_oxygen': 98.4, 'body_temperature': 37.0}\n",
      "Sent: {'timestamp': '2025-06-19T19:02:25Z', 'heart_rate': 83, 'blood_oxygen': 99.7, 'body_temperature': 36.4}\n",
      "Sent: {'timestamp': '2025-06-19T19:02:26Z', 'heart_rate': 85, 'blood_oxygen': 98.3, 'body_temperature': 36.3}\n",
      "Sent: {'timestamp': '2025-06-19T19:02:27Z', 'heart_rate': 81, 'blood_oxygen': 99.5, 'body_temperature': 36.5}\n",
      "Sent: {'timestamp': '2025-06-19T19:02:28Z', 'heart_rate': 84, 'blood_oxygen': 98.6, 'body_temperature': 36.0}\n",
      "Sent: {'timestamp': '2025-06-19T19:02:29Z', 'heart_rate': 84, 'blood_oxygen': 98.3, 'body_temperature': 36.9}\n",
      "Sent: {'timestamp': '2025-06-19T19:02:30Z', 'heart_rate': 83, 'blood_oxygen': 99.4, 'body_temperature': 36.6}\n",
      "Sent: {'timestamp': '2025-06-19T19:02:31Z', 'heart_rate': 80, 'blood_oxygen': 100.0, 'body_temperature': 36.6}\n",
      "Sent: {'timestamp': '2025-06-19T19:02:32Z', 'heart_rate': 85, 'blood_oxygen': 99.4, 'body_temperature': 36.2}\n",
      "Sent: {'timestamp': '2025-06-19T19:02:33Z', 'heart_rate': 82, 'blood_oxygen': 99.0, 'body_temperature': 36.9}\n",
      "Sent: {'timestamp': '2025-06-19T19:02:34Z', 'heart_rate': 81, 'blood_oxygen': 98.5, 'body_temperature': 36.2}\n",
      "Sent: {'timestamp': '2025-06-19T19:02:35Z', 'heart_rate': 85, 'blood_oxygen': 99.3, 'body_temperature': 36.5}\n",
      "Sent: {'timestamp': '2025-06-19T19:02:36Z', 'heart_rate': 84, 'blood_oxygen': 99.5, 'body_temperature': 36.1}\n",
      "Sent: {'timestamp': '2025-06-19T19:02:37Z', 'heart_rate': 85, 'blood_oxygen': 99.4, 'body_temperature': 36.4}\n",
      "Sent: {'timestamp': '2025-06-19T19:02:38Z', 'heart_rate': 80, 'blood_oxygen': 100.0, 'body_temperature': 36.8}\n",
      "Sent: {'timestamp': '2025-06-19T19:02:39Z', 'heart_rate': 85, 'blood_oxygen': 98.5, 'body_temperature': 36.3}\n",
      "Sent: {'timestamp': '2025-06-19T19:02:40Z', 'heart_rate': 81, 'blood_oxygen': 98.5, 'body_temperature': 36.1}\n",
      "Sent: {'timestamp': '2025-06-19T19:02:41Z', 'heart_rate': 83, 'blood_oxygen': 98.6, 'body_temperature': 36.1}\n",
      "Sent: {'timestamp': '2025-06-19T19:02:42Z', 'heart_rate': 85, 'blood_oxygen': 98.6, 'body_temperature': 37.0}\n",
      "Sent: {'timestamp': '2025-06-19T19:02:43Z', 'heart_rate': 81, 'blood_oxygen': 98.4, 'body_temperature': 36.3}\n",
      "Sent: {'timestamp': '2025-06-19T19:02:44Z', 'heart_rate': 84, 'blood_oxygen': 98.7, 'body_temperature': 36.0}\n",
      "Sent: {'timestamp': '2025-06-19T19:02:45Z', 'heart_rate': 81, 'blood_oxygen': 98.9, 'body_temperature': 36.5}\n",
      "Sent: {'timestamp': '2025-06-19T19:02:46Z', 'heart_rate': 85, 'blood_oxygen': 99.5, 'body_temperature': 36.8}\n",
      "Sent: {'timestamp': '2025-06-19T19:02:47Z', 'heart_rate': 85, 'blood_oxygen': 99.7, 'body_temperature': 36.7}\n",
      "Sent: {'timestamp': '2025-06-19T19:02:48Z', 'heart_rate': 85, 'blood_oxygen': 99.0, 'body_temperature': 37.0}\n",
      "Sent: {'timestamp': '2025-06-19T19:02:49Z', 'heart_rate': 82, 'blood_oxygen': 99.2, 'body_temperature': 36.7}\n",
      "Sent: {'timestamp': '2025-06-19T19:02:50Z', 'heart_rate': 85, 'blood_oxygen': 98.5, 'body_temperature': 36.9}\n",
      "Sent: {'timestamp': '2025-06-19T19:02:51Z', 'heart_rate': 82, 'blood_oxygen': 98.9, 'body_temperature': 36.1}\n",
      "Sent: {'timestamp': '2025-06-19T19:02:52Z', 'heart_rate': 82, 'blood_oxygen': 99.0, 'body_temperature': 36.5}\n",
      "Sent: {'timestamp': '2025-06-19T19:02:53Z', 'heart_rate': 84, 'blood_oxygen': 98.7, 'body_temperature': 36.0}\n",
      "Sent: {'timestamp': '2025-06-19T19:02:54Z', 'heart_rate': 82, 'blood_oxygen': 99.4, 'body_temperature': 37.0}\n",
      "Sent: {'timestamp': '2025-06-19T19:02:55Z', 'heart_rate': 83, 'blood_oxygen': 99.7, 'body_temperature': 37.0}\n",
      "Sent: {'timestamp': '2025-06-19T19:02:56Z', 'heart_rate': 82, 'blood_oxygen': 98.0, 'body_temperature': 36.0}\n",
      "Sent: {'timestamp': '2025-06-19T19:02:57Z', 'heart_rate': 84, 'blood_oxygen': 98.6, 'body_temperature': 36.9}\n",
      "Sent: {'timestamp': '2025-06-19T19:02:58Z', 'heart_rate': 80, 'blood_oxygen': 99.8, 'body_temperature': 36.1}\n",
      "Sent: {'timestamp': '2025-06-19T19:02:59Z', 'heart_rate': 84, 'blood_oxygen': 99.6, 'body_temperature': 36.3}\n",
      "Sent: {'timestamp': '2025-06-19T19:03:00Z', 'heart_rate': 83, 'blood_oxygen': 98.1, 'body_temperature': 36.5}\n",
      "Sent: {'timestamp': '2025-06-19T19:03:01Z', 'heart_rate': 81, 'blood_oxygen': 99.3, 'body_temperature': 36.5}\n",
      "Sent: {'timestamp': '2025-06-19T19:03:02Z', 'heart_rate': 84, 'blood_oxygen': 98.6, 'body_temperature': 36.4}\n",
      "Sent: {'timestamp': '2025-06-19T19:03:03Z', 'heart_rate': 82, 'blood_oxygen': 99.2, 'body_temperature': 36.3}\n",
      "Sent: {'timestamp': '2025-06-19T19:03:04Z', 'heart_rate': 83, 'blood_oxygen': 98.1, 'body_temperature': 36.7}\n",
      "Sent: {'timestamp': '2025-06-19T19:03:05Z', 'heart_rate': 82, 'blood_oxygen': 99.4, 'body_temperature': 36.9}\n",
      "Sent: {'timestamp': '2025-06-19T19:03:06Z', 'heart_rate': 81, 'blood_oxygen': 100.0, 'body_temperature': 36.1}\n",
      "Sent: {'timestamp': '2025-06-19T19:03:07Z', 'heart_rate': 84, 'blood_oxygen': 99.3, 'body_temperature': 36.6}\n",
      "Sent: {'timestamp': '2025-06-19T19:03:08Z', 'heart_rate': 85, 'blood_oxygen': 99.3, 'body_temperature': 36.7}\n",
      "Sent: {'timestamp': '2025-06-19T19:03:09Z', 'heart_rate': 84, 'blood_oxygen': 98.7, 'body_temperature': 36.1}\n",
      "Sent: {'timestamp': '2025-06-19T19:03:10Z', 'heart_rate': 84, 'blood_oxygen': 98.1, 'body_temperature': 36.3}\n",
      "Sent: {'timestamp': '2025-06-19T19:03:11Z', 'heart_rate': 83, 'blood_oxygen': 99.9, 'body_temperature': 36.6}\n",
      "Sent: {'timestamp': '2025-06-19T19:03:12Z', 'heart_rate': 82, 'blood_oxygen': 99.4, 'body_temperature': 36.4}\n",
      "Sent: {'timestamp': '2025-06-19T19:03:13Z', 'heart_rate': 80, 'blood_oxygen': 99.5, 'body_temperature': 36.7}\n",
      "Sent: {'timestamp': '2025-06-19T19:03:14Z', 'heart_rate': 80, 'blood_oxygen': 99.0, 'body_temperature': 36.7}\n",
      "Sent: {'timestamp': '2025-06-19T19:03:15Z', 'heart_rate': 80, 'blood_oxygen': 99.7, 'body_temperature': 36.5}\n",
      "Sent: {'timestamp': '2025-06-19T19:03:16Z', 'heart_rate': 85, 'blood_oxygen': 99.9, 'body_temperature': 36.7}\n",
      "Sent: {'timestamp': '2025-06-19T19:03:17Z', 'heart_rate': 84, 'blood_oxygen': 99.5, 'body_temperature': 36.9}\n",
      "Sent: {'timestamp': '2025-06-19T19:03:18Z', 'heart_rate': 84, 'blood_oxygen': 99.1, 'body_temperature': 36.8}\n",
      "Sent: {'timestamp': '2025-06-19T19:03:19Z', 'heart_rate': 85, 'blood_oxygen': 98.4, 'body_temperature': 36.5}\n",
      "Sent: {'timestamp': '2025-06-19T19:03:20Z', 'heart_rate': 81, 'blood_oxygen': 99.6, 'body_temperature': 36.3}\n",
      "Sent: {'timestamp': '2025-06-19T19:03:21Z', 'heart_rate': 84, 'blood_oxygen': 98.0, 'body_temperature': 36.2}\n",
      "Sent: {'timestamp': '2025-06-19T19:03:22Z', 'heart_rate': 82, 'blood_oxygen': 99.4, 'body_temperature': 36.4}\n",
      "Sent: {'timestamp': '2025-06-19T19:03:23Z', 'heart_rate': 80, 'blood_oxygen': 99.5, 'body_temperature': 36.4}\n",
      "Sent: {'timestamp': '2025-06-19T19:03:24Z', 'heart_rate': 85, 'blood_oxygen': 99.5, 'body_temperature': 36.4}\n",
      "Finished sending measurements.\n"
     ]
    }
   ],
   "source": [
    "def generate_health_measurement():\n",
    "    return {\n",
    "        \"timestamp\": datetime.now(timezone.utc).strftime('%Y-%m-%dT%H:%M:%SZ'),\n",
    "        \"heart_rate\": random.randint(80, 85),         \n",
    "        \"blood_oxygen\": round(random.uniform(98, 100), 1),\n",
    "        \"body_temperature\": round(random.uniform(36, 37), 1),             \n",
    "    }\n",
    "\n",
    "for _ in range(100):\n",
    "    measurement = generate_health_measurement()\n",
    "    producer.send('measurements', measurement)\n",
    "    print(\"Sent:\", measurement)\n",
    "    time.sleep(1)\n",
    "\n",
    "producer.flush()\n",
    "print(\"Finished sending measurements.\")"
   ]
  },
  {
   "cell_type": "markdown",
   "id": "90612c72",
   "metadata": {},
   "source": [
    "### 5. Now to demonstrate reading of messages, we use KafkaConsumer.\n",
    "\n",
    "Every cycle, the producer sends 10 measurements (one per second), then the consumer polls for new messages for 2 seconds, updates the table (pandas dataframe), and displays it. This repeats up to 10 times, or until no new data is received for 20 seconds. (Meaning we would add 100 data entries more)"
   ]
  },
  {
   "cell_type": "code",
   "execution_count": 7,
   "id": "4704a20f",
   "metadata": {},
   "outputs": [],
   "source": [
    "consumer = KafkaConsumer(\n",
    "    'measurements',\n",
    "    bootstrap_servers='localhost:9092',\n",
    "    auto_offset_reset='earliest',\n",
    "    enable_auto_commit=True,\n",
    "    group_id=f'measurement-consumers-{int(time.time())}',\n",
    "    value_deserializer=lambda m: json.loads(m.decode('utf-8'))\n",
    ")"
   ]
  },
  {
   "cell_type": "code",
   "execution_count": 8,
   "id": "209091d4",
   "metadata": {},
   "outputs": [
    {
     "name": "stdout",
     "output_type": "stream",
     "text": [
      "                timestamp  heart_rate  blood_oxygen  body_temperature\n",
      "0    2025-06-19T19:01:44Z           0           0.0               0.0\n",
      "1    2025-06-19T19:01:44Z          83          98.2              36.7\n",
      "2    2025-06-19T19:01:45Z          80          99.6              36.7\n",
      "3    2025-06-19T19:01:46Z          81          98.2              36.1\n",
      "4    2025-06-19T19:01:47Z          81          99.9              36.0\n",
      "..                    ...         ...           ...               ...\n",
      "196  2025-06-19T19:05:18Z          80          98.9              36.7\n",
      "197  2025-06-19T19:05:19Z          82          99.4              36.6\n",
      "198  2025-06-19T19:05:20Z          80          98.4              36.2\n",
      "199  2025-06-19T19:05:21Z          82          98.8              36.3\n",
      "200  2025-06-19T19:05:22Z          81          98.6              36.5\n",
      "\n",
      "[201 rows x 4 columns]\n",
      "----------------------------------------\n",
      "Updated table at 2025-06-19 21:05:25.886616\n",
      "Finished sending measurements.\n"
     ]
    }
   ],
   "source": [
    "data = []\n",
    "last_new_data_time = time.time()\n",
    "\n",
    "for _ in range(10):\n",
    "    \n",
    "    # Produce\n",
    "    for _ in range(10):\n",
    "        measurement = generate_health_measurement()\n",
    "        producer.send('measurements', measurement)\n",
    "        print(\"Sent:\", measurement)\n",
    "        time.sleep(1)\n",
    "\n",
    "    # Consume (poll for 2 seconds)\n",
    "    start_len = len(data)\n",
    "    start_time = time.time()\n",
    "    while time.time() - start_time < 2:\n",
    "        msg_pack = consumer.poll(timeout_ms=500)\n",
    "        for tp, messages in msg_pack.items():\n",
    "            for message in messages:\n",
    "                data.append(message.value)\n",
    "    new_data = data[start_len:]\n",
    "\n",
    "    # Display real time changing table\n",
    "    clear_output(wait=True)\n",
    "    if new_data:\n",
    "        df = pd.DataFrame(data)\n",
    "        print(df)\n",
    "        last_new_data_time = time.time()\n",
    "    else:\n",
    "        print(\"No data collected yet.\")\n",
    "    print('----------------------------------------')    \n",
    "    print(f\"Updated table at {pd.Timestamp.now()}\")\n",
    "\n",
    "    # Stop if no new data after 20 seconds\n",
    "    if time.time() - last_new_data_time > 20:\n",
    "        print(\"No new data for 20 seconds. Stopping.\")\n",
    "        break\n",
    "\n",
    "producer.flush()\n",
    "print(\"Finished sending measurements.\")"
   ]
  },
  {
   "cell_type": "code",
   "execution_count": 9,
   "id": "3ac038d3",
   "metadata": {},
   "outputs": [
    {
     "data": {
      "text/html": [
       "<div>\n",
       "<style scoped>\n",
       "    .dataframe tbody tr th:only-of-type {\n",
       "        vertical-align: middle;\n",
       "    }\n",
       "\n",
       "    .dataframe tbody tr th {\n",
       "        vertical-align: top;\n",
       "    }\n",
       "\n",
       "    .dataframe thead th {\n",
       "        text-align: right;\n",
       "    }\n",
       "</style>\n",
       "<table border=\"1\" class=\"dataframe\">\n",
       "  <thead>\n",
       "    <tr style=\"text-align: right;\">\n",
       "      <th></th>\n",
       "      <th>timestamp</th>\n",
       "      <th>heart_rate</th>\n",
       "      <th>blood_oxygen</th>\n",
       "      <th>body_temperature</th>\n",
       "    </tr>\n",
       "  </thead>\n",
       "  <tbody>\n",
       "    <tr>\n",
       "      <th>0</th>\n",
       "      <td>2025-06-19T19:01:44Z</td>\n",
       "      <td>0</td>\n",
       "      <td>0.0</td>\n",
       "      <td>0.0</td>\n",
       "    </tr>\n",
       "    <tr>\n",
       "      <th>1</th>\n",
       "      <td>2025-06-19T19:01:44Z</td>\n",
       "      <td>83</td>\n",
       "      <td>98.2</td>\n",
       "      <td>36.7</td>\n",
       "    </tr>\n",
       "    <tr>\n",
       "      <th>2</th>\n",
       "      <td>2025-06-19T19:01:45Z</td>\n",
       "      <td>80</td>\n",
       "      <td>99.6</td>\n",
       "      <td>36.7</td>\n",
       "    </tr>\n",
       "    <tr>\n",
       "      <th>3</th>\n",
       "      <td>2025-06-19T19:01:46Z</td>\n",
       "      <td>81</td>\n",
       "      <td>98.2</td>\n",
       "      <td>36.1</td>\n",
       "    </tr>\n",
       "    <tr>\n",
       "      <th>4</th>\n",
       "      <td>2025-06-19T19:01:47Z</td>\n",
       "      <td>81</td>\n",
       "      <td>99.9</td>\n",
       "      <td>36.0</td>\n",
       "    </tr>\n",
       "    <tr>\n",
       "      <th>...</th>\n",
       "      <td>...</td>\n",
       "      <td>...</td>\n",
       "      <td>...</td>\n",
       "      <td>...</td>\n",
       "    </tr>\n",
       "    <tr>\n",
       "      <th>196</th>\n",
       "      <td>2025-06-19T19:05:18Z</td>\n",
       "      <td>80</td>\n",
       "      <td>98.9</td>\n",
       "      <td>36.7</td>\n",
       "    </tr>\n",
       "    <tr>\n",
       "      <th>197</th>\n",
       "      <td>2025-06-19T19:05:19Z</td>\n",
       "      <td>82</td>\n",
       "      <td>99.4</td>\n",
       "      <td>36.6</td>\n",
       "    </tr>\n",
       "    <tr>\n",
       "      <th>198</th>\n",
       "      <td>2025-06-19T19:05:20Z</td>\n",
       "      <td>80</td>\n",
       "      <td>98.4</td>\n",
       "      <td>36.2</td>\n",
       "    </tr>\n",
       "    <tr>\n",
       "      <th>199</th>\n",
       "      <td>2025-06-19T19:05:21Z</td>\n",
       "      <td>82</td>\n",
       "      <td>98.8</td>\n",
       "      <td>36.3</td>\n",
       "    </tr>\n",
       "    <tr>\n",
       "      <th>200</th>\n",
       "      <td>2025-06-19T19:05:22Z</td>\n",
       "      <td>81</td>\n",
       "      <td>98.6</td>\n",
       "      <td>36.5</td>\n",
       "    </tr>\n",
       "  </tbody>\n",
       "</table>\n",
       "<p>201 rows × 4 columns</p>\n",
       "</div>"
      ],
      "text/plain": [
       "                timestamp  heart_rate  blood_oxygen  body_temperature\n",
       "0    2025-06-19T19:01:44Z           0           0.0               0.0\n",
       "1    2025-06-19T19:01:44Z          83          98.2              36.7\n",
       "2    2025-06-19T19:01:45Z          80          99.6              36.7\n",
       "3    2025-06-19T19:01:46Z          81          98.2              36.1\n",
       "4    2025-06-19T19:01:47Z          81          99.9              36.0\n",
       "..                    ...         ...           ...               ...\n",
       "196  2025-06-19T19:05:18Z          80          98.9              36.7\n",
       "197  2025-06-19T19:05:19Z          82          99.4              36.6\n",
       "198  2025-06-19T19:05:20Z          80          98.4              36.2\n",
       "199  2025-06-19T19:05:21Z          82          98.8              36.3\n",
       "200  2025-06-19T19:05:22Z          81          98.6              36.5\n",
       "\n",
       "[201 rows x 4 columns]"
      ]
     },
     "execution_count": 9,
     "metadata": {},
     "output_type": "execute_result"
    }
   ],
   "source": [
    "df"
   ]
  }
 ],
 "metadata": {
  "kernelspec": {
   "display_name": ".venv",
   "language": "python",
   "name": "python3"
  },
  "language_info": {
   "codemirror_mode": {
    "name": "ipython",
    "version": 3
   },
   "file_extension": ".py",
   "mimetype": "text/x-python",
   "name": "python",
   "nbconvert_exporter": "python",
   "pygments_lexer": "ipython3",
   "version": "3.12.6"
  }
 },
 "nbformat": 4,
 "nbformat_minor": 5
}
