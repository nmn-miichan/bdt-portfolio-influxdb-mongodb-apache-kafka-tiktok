{
 "cells": [
  {
   "cell_type": "markdown",
   "id": "54d16106",
   "metadata": {},
   "source": [
    "# Programming with MongoDB"
   ]
  },
  {
   "cell_type": "markdown",
   "id": "d5657eb7",
   "metadata": {},
   "source": [
    "### 1. First, we install the MongoDB Client Library."
   ]
  },
  {
   "cell_type": "code",
   "execution_count": 1,
   "id": "9fdb859c",
   "metadata": {},
   "outputs": [],
   "source": [
    "#!pip3 install pymongo"
   ]
  },
  {
   "cell_type": "markdown",
   "id": "ca9f61be",
   "metadata": {},
   "source": [
    "### 2. Then, we set up the connection."
   ]
  },
  {
   "cell_type": "code",
   "execution_count": 2,
   "id": "2361ca97",
   "metadata": {},
   "outputs": [],
   "source": [
    "from pymongo import MongoClient"
   ]
  },
  {
   "cell_type": "code",
   "execution_count": 3,
   "id": "9df3e8f6",
   "metadata": {},
   "outputs": [],
   "source": [
    "client = MongoClient('localhost', 27017)"
   ]
  },
  {
   "cell_type": "code",
   "execution_count": 4,
   "id": "8fa03279",
   "metadata": {},
   "outputs": [],
   "source": [
    "db = client['my_database_for_bdt']\n",
    "\n",
    "collection = db['books']"
   ]
  },
  {
   "cell_type": "markdown",
   "id": "b4b95a8e",
   "metadata": {},
   "source": [
    "### 3. Now, we can test the database connection by accessing the previously created database (my_database_for_bdt) and collection (books)."
   ]
  },
  {
   "cell_type": "code",
   "execution_count": 5,
   "id": "212f7f63",
   "metadata": {},
   "outputs": [
    {
     "name": "stdout",
     "output_type": "stream",
     "text": [
      "Document inserted with ID: 68271df7af2027e095929682\n"
     ]
    }
   ],
   "source": [
    "try:\n",
    "    test_document = {\"title\": \"Inferno\", \"author\": \"Dan Brown\", \"genre\": \"Thriller\", \"publication_year\": \"2013\"}\n",
    "    result = collection.insert_one(test_document)\n",
    "    print(f\"Document inserted with ID: {result.inserted_id}\")\n",
    "\n",
    "except Exception as e:\n",
    "    print(f\"An error occurred: {e}\")"
   ]
  },
  {
   "cell_type": "markdown",
   "id": "dc7ef4ee",
   "metadata": {},
   "source": [
    "The document was inserted successfully, meaning the connection was established."
   ]
  },
  {
   "cell_type": "markdown",
   "id": "9db5b3bb",
   "metadata": {},
   "source": [
    "### 4. Then we create 100 random JSON-style documents for the book collection to demonstrate data writing. For this, we can use the Faker library."
   ]
  },
  {
   "cell_type": "code",
   "execution_count": 6,
   "id": "dfa40d95",
   "metadata": {},
   "outputs": [],
   "source": [
    "import json\n",
    "import random\n",
    "from faker import Faker"
   ]
  },
  {
   "cell_type": "code",
   "execution_count": 7,
   "id": "c7ec07ae",
   "metadata": {},
   "outputs": [],
   "source": [
    "faker = Faker()\n",
    "\n",
    "def generate_book():\n",
    "    return {\n",
    "        \"title\": faker.catch_phrase(),\n",
    "        \"author\": {\n",
    "            \"name\": faker.name(),\n",
    "            \"birth_year\": random.randint(1990, 2000),\n",
    "            \"nationality\": random.choice([\"American\", \"British\", \"Canadian\", \"Australian\", \"Indian\"]),\n",
    "        },\n",
    "        \"genre\": random.choice([\"Science Fiction\", \"Fantasy\", \"Mystery\", \"Thriller\", \"Nonfiction\", \"Historical\"]),\n",
    "        \"publication_details\": {\n",
    "            \"publisher\": faker.company(),\n",
    "            \"publication_year\": random.randint(1900, 2025),\n",
    "            \"ISBN\": faker.isbn13()\n",
    "        },\n",
    "        \"ratings\": {\n",
    "            \"average_rating\": round(random.uniform(1.0, 5.0), 2),\n",
    "            \"number_of_reviews\": random.randint(0, 1000)\n",
    "        }\n",
    "    }\n",
    "\n",
    "def create_books_json(num_books=100):\n",
    "    books = [generate_book() for _ in range(num_books)]\n",
    "    return books\n",
    "\n",
    "def save_to_file(data, filename='books.json'):\n",
    "    with open(filename, 'w') as file:\n",
    "        json.dump(data, file, indent=4)\n",
    "\n",
    "def insert_books_from_json(file_path):\n",
    "    with open(file_path, 'r') as file:\n",
    "        books = json.load(file)\n",
    "    result = collection.insert_many(books)\n",
    "    print(f\"Inserted {len(result.inserted_ids)} documents into the 'books' collection.\")"
   ]
  },
  {
   "cell_type": "code",
   "execution_count": 8,
   "id": "ef7b338c",
   "metadata": {},
   "outputs": [
    {
     "name": "stdout",
     "output_type": "stream",
     "text": [
      "100 books generated and saved to books.json\n"
     ]
    }
   ],
   "source": [
    "books_data = create_books_json()\n",
    "save_to_file(books_data)\n",
    "print(f\"{len(books_data)} books generated and saved to books.json\")"
   ]
  },
  {
   "cell_type": "code",
   "execution_count": 9,
   "id": "475c39b6",
   "metadata": {},
   "outputs": [
    {
     "name": "stdout",
     "output_type": "stream",
     "text": [
      "Inserted 100 documents into the 'books' collection.\n"
     ]
    }
   ],
   "source": [
    "insert_books_from_json('books.json')"
   ]
  },
  {
   "cell_type": "markdown",
   "id": "4a585997",
   "metadata": {},
   "source": [
    "### 5. We can further explore and manipulate the database by inserting, updating, querying, and deleting documents."
   ]
  },
  {
   "cell_type": "code",
   "execution_count": 10,
   "id": "9a546703",
   "metadata": {},
   "outputs": [],
   "source": [
    "# Example functions\n",
    "\n",
    "def insert_books(collection, books):\n",
    "    result = collection.insert_many(books)\n",
    "    print(f\"Inserted {len(result.inserted_ids)} documents.\")\n",
    "\n",
    "def query_all_books(collection):\n",
    "    books = collection.find()\n",
    "    print(\"All Books:\")\n",
    "    for book in books:\n",
    "        print(book)\n",
    "\n",
    "def query_books_by_genre(collection, genre):\n",
    "    books = collection.find({\"genre\": genre})\n",
    "    print(f\"Books in genre {genre}:\")\n",
    "    for book in books:\n",
    "        print(book)\n",
    "\n",
    "def update_book_publication_year(collection, title, new_year):\n",
    "    collection.update_one(\n",
    "        {\"title\": title},\n",
    "        {\"$set\": {\"publication_year\": new_year}}\n",
    "    )\n",
    "    updated_book = collection.find_one({\"title\": title})\n",
    "    print(\"Updated Book:\", updated_book)\n",
    "\n",
    "def delete_book_by_title(collection, title):\n",
    "    collection.delete_one({\"title\": title})\n",
    "    print(\"Book is deleted\")\n",
    "\n",
    "def delete_all_books(collection):\n",
    "    collection.delete_many({})\n",
    "    print(\"All books have been deleted.\")"
   ]
  },
  {
   "cell_type": "markdown",
   "id": "8df9245d",
   "metadata": {},
   "source": [
    "#### 5.1. Insert data"
   ]
  },
  {
   "cell_type": "markdown",
   "id": "8e2bd97b",
   "metadata": {},
   "source": [
    "At the beginning, we used insert_one() to insert a single book. Here, we can insert multiple books simultaneously."
   ]
  },
  {
   "cell_type": "code",
   "execution_count": 11,
   "id": "d76a7558",
   "metadata": {},
   "outputs": [
    {
     "name": "stdout",
     "output_type": "stream",
     "text": [
      "Inserted 2 documents.\n"
     ]
    }
   ],
   "source": [
    "books_to_insert = [\n",
    "    {\"title\": \"Harry Potter and the Deathly Hallows\", \"author\": \"J.K. Rowling\", \"genre\": \"Fantasy\", \"publication_year\": 2007},\n",
    "    {\"title\": \"The Book Thief\", \"author\": \"Markus Zusak\", \"genre\": \"Mystery\", \"publication_year\": 2007}\n",
    "]\n",
    "insert_books(collection, books_to_insert)"
   ]
  },
  {
   "cell_type": "markdown",
   "id": "acb60c4d",
   "metadata": {},
   "source": [
    "#### 5.2. Query data"
   ]
  },
  {
   "cell_type": "code",
   "execution_count": 12,
   "id": "1487ed04",
   "metadata": {},
   "outputs": [
    {
     "name": "stdout",
     "output_type": "stream",
     "text": [
      "All Books:\n",
      "{'_id': ObjectId('68271df7af2027e095929682'), 'title': 'Inferno', 'author': 'Dan Brown', 'genre': 'Thriller', 'publication_year': '2013'}\n",
      "{'_id': ObjectId('68271df7af2027e095929683'), 'title': 'Secured disintermediate core', 'author': {'name': 'Matthew Watson', 'birth_year': 1998, 'nationality': 'American'}, 'genre': 'Nonfiction', 'publication_details': {'publisher': 'Keller, Ramos and Chan', 'publication_year': 1945, 'ISBN': '978-1-5097-1447-6'}, 'ratings': {'average_rating': 3.47, 'number_of_reviews': 297}}\n",
      "{'_id': ObjectId('68271df7af2027e095929684'), 'title': 'Front-line multi-state installation', 'author': {'name': 'Nicole Roberts', 'birth_year': 1993, 'nationality': 'Indian'}, 'genre': 'Thriller', 'publication_details': {'publisher': 'Garza Inc', 'publication_year': 1997, 'ISBN': '978-1-162-78333-8'}, 'ratings': {'average_rating': 1.64, 'number_of_reviews': 311}}\n",
      "{'_id': ObjectId('68271df7af2027e095929685'), 'title': 'Intuitive incremental knowledgebase', 'author': {'name': 'Shawn Gonzalez', 'birth_year': 1995, 'nationality': 'Indian'}, 'genre': 'Historical', 'publication_details': {'publisher': 'Hull, Smith and Newton', 'publication_year': 1963, 'ISBN': '978-0-13-323411-4'}, 'ratings': {'average_rating': 2.48, 'number_of_reviews': 590}}\n",
      "{'_id': ObjectId('68271df7af2027e095929686'), 'title': 'Customer-focused eco-centric definition', 'author': {'name': 'Kyle Banks', 'birth_year': 1999, 'nationality': 'British'}, 'genre': 'Mystery', 'publication_details': {'publisher': 'Bates, Carter and Edwards', 'publication_year': 1948, 'ISBN': '978-1-57229-980-1'}, 'ratings': {'average_rating': 3.15, 'number_of_reviews': 599}}\n",
      "{'_id': ObjectId('68271df7af2027e095929687'), 'title': 'Quality-focused grid-enabled workforce', 'author': {'name': 'Amanda Gallagher', 'birth_year': 2000, 'nationality': 'Australian'}, 'genre': 'Historical', 'publication_details': {'publisher': 'Nguyen-Brooks', 'publication_year': 1982, 'ISBN': '978-0-691-69470-2'}, 'ratings': {'average_rating': 3.29, 'number_of_reviews': 924}}\n",
      "{'_id': ObjectId('68271df7af2027e095929688'), 'title': 'Object-based fresh-thinking database', 'author': {'name': 'Brian Heath', 'birth_year': 1997, 'nationality': 'British'}, 'genre': 'Fantasy', 'publication_details': {'publisher': 'Lawrence-Nguyen', 'publication_year': 1903, 'ISBN': '978-0-8079-9730-7'}, 'ratings': {'average_rating': 1.52, 'number_of_reviews': 715}}\n",
      "{'_id': ObjectId('68271df7af2027e095929689'), 'title': 'Pre-emptive demand-driven standardization', 'author': {'name': 'Elizabeth Moore', 'birth_year': 1998, 'nationality': 'Canadian'}, 'genre': 'Thriller', 'publication_details': {'publisher': 'Pierce, Palmer and Johnson', 'publication_year': 2012, 'ISBN': '978-1-03-714460-8'}, 'ratings': {'average_rating': 4.22, 'number_of_reviews': 817}}\n",
      "{'_id': ObjectId('68271df7af2027e09592968a'), 'title': 'Open-source disintermediate utilization', 'author': {'name': 'Michael Henry', 'birth_year': 2000, 'nationality': 'Indian'}, 'genre': 'Mystery', 'publication_details': {'publisher': 'Nelson-Murray', 'publication_year': 1901, 'ISBN': '978-0-13-944703-7'}, 'ratings': {'average_rating': 2.21, 'number_of_reviews': 122}}\n",
      "{'_id': ObjectId('68271df7af2027e09592968b'), 'title': 'Multi-lateral attitude-oriented approach', 'author': {'name': 'Jennifer Wade', 'birth_year': 1993, 'nationality': 'Canadian'}, 'genre': 'Fantasy', 'publication_details': {'publisher': 'Gallegos Ltd', 'publication_year': 1909, 'ISBN': '978-1-58351-078-0'}, 'ratings': {'average_rating': 2.63, 'number_of_reviews': 673}}\n",
      "{'_id': ObjectId('68271df7af2027e09592968c'), 'title': 'Compatible 24/7 leverage', 'author': {'name': 'Katherine Carroll', 'birth_year': 1997, 'nationality': 'Indian'}, 'genre': 'Mystery', 'publication_details': {'publisher': 'Weaver-Serrano', 'publication_year': 1914, 'ISBN': '978-0-941867-79-5'}, 'ratings': {'average_rating': 1.95, 'number_of_reviews': 75}}\n",
      "{'_id': ObjectId('68271df7af2027e09592968d'), 'title': 'Vision-oriented logistical strategy', 'author': {'name': 'John Taylor', 'birth_year': 1999, 'nationality': 'British'}, 'genre': 'Thriller', 'publication_details': {'publisher': 'Baker Ltd', 'publication_year': 1911, 'ISBN': '978-0-378-89871-3'}, 'ratings': {'average_rating': 1.93, 'number_of_reviews': 460}}\n",
      "{'_id': ObjectId('68271df7af2027e09592968e'), 'title': 'Ergonomic uniform focus group', 'author': {'name': 'Joseph Fox', 'birth_year': 1991, 'nationality': 'American'}, 'genre': 'Science Fiction', 'publication_details': {'publisher': 'Watts, Coleman and Lee', 'publication_year': 1903, 'ISBN': '978-1-01-125708-9'}, 'ratings': {'average_rating': 4.7, 'number_of_reviews': 719}}\n",
      "{'_id': ObjectId('68271df7af2027e09592968f'), 'title': 'Realigned contextually-based system engine', 'author': {'name': 'Calvin Bradley', 'birth_year': 1998, 'nationality': 'British'}, 'genre': 'Fantasy', 'publication_details': {'publisher': 'Case, Johnson and Williams', 'publication_year': 1947, 'ISBN': '978-0-432-24966-6'}, 'ratings': {'average_rating': 1.42, 'number_of_reviews': 992}}\n",
      "{'_id': ObjectId('68271df7af2027e095929690'), 'title': 'Expanded local core', 'author': {'name': 'John Sanders', 'birth_year': 1997, 'nationality': 'Australian'}, 'genre': 'Thriller', 'publication_details': {'publisher': 'Shields-Miller', 'publication_year': 1906, 'ISBN': '978-1-4939-8825-9'}, 'ratings': {'average_rating': 4.54, 'number_of_reviews': 923}}\n",
      "{'_id': ObjectId('68271df7af2027e095929691'), 'title': 'Robust explicit strategy', 'author': {'name': 'James Martinez', 'birth_year': 2000, 'nationality': 'American'}, 'genre': 'Mystery', 'publication_details': {'publisher': 'Sanchez Ltd', 'publication_year': 1960, 'ISBN': '978-0-452-20670-0'}, 'ratings': {'average_rating': 2.91, 'number_of_reviews': 349}}\n",
      "{'_id': ObjectId('68271df7af2027e095929692'), 'title': 'Enterprise-wide global help-desk', 'author': {'name': 'Michele Garcia MD', 'birth_year': 1995, 'nationality': 'Canadian'}, 'genre': 'Mystery', 'publication_details': {'publisher': 'Baird-Vance', 'publication_year': 1961, 'ISBN': '978-0-440-16218-6'}, 'ratings': {'average_rating': 2.77, 'number_of_reviews': 689}}\n",
      "{'_id': ObjectId('68271df7af2027e095929693'), 'title': 'Multi-lateral stable budgetary management', 'author': {'name': 'Connor Brown', 'birth_year': 1995, 'nationality': 'Indian'}, 'genre': 'Historical', 'publication_details': {'publisher': 'Price Ltd', 'publication_year': 1949, 'ISBN': '978-1-5226-4440-8'}, 'ratings': {'average_rating': 4.85, 'number_of_reviews': 976}}\n",
      "{'_id': ObjectId('68271df7af2027e095929694'), 'title': 'Horizontal contextually-based time-frame', 'author': {'name': 'Nathaniel Esparza', 'birth_year': 1992, 'nationality': 'American'}, 'genre': 'Nonfiction', 'publication_details': {'publisher': 'Mckenzie-Patterson', 'publication_year': 1970, 'ISBN': '978-0-19-138154-6'}, 'ratings': {'average_rating': 3.02, 'number_of_reviews': 4}}\n",
      "{'_id': ObjectId('68271df7af2027e095929695'), 'title': 'Function-based background success', 'author': {'name': 'Sierra Schneider', 'birth_year': 1992, 'nationality': 'Australian'}, 'genre': 'Nonfiction', 'publication_details': {'publisher': 'Smith, Huynh and Massey', 'publication_year': 2015, 'ISBN': '978-0-7534-0447-8'}, 'ratings': {'average_rating': 2.6, 'number_of_reviews': 984}}\n",
      "{'_id': ObjectId('68271df7af2027e095929696'), 'title': 'Reduced directional functionalities', 'author': {'name': 'Jean Galvan', 'birth_year': 1992, 'nationality': 'British'}, 'genre': 'Thriller', 'publication_details': {'publisher': 'Arnold-Phillips', 'publication_year': 2006, 'ISBN': '978-0-626-75226-2'}, 'ratings': {'average_rating': 3.57, 'number_of_reviews': 113}}\n",
      "{'_id': ObjectId('68271df7af2027e095929697'), 'title': 'Monitored regional time-frame', 'author': {'name': 'Mr. Thomas Hill', 'birth_year': 1991, 'nationality': 'American'}, 'genre': 'Mystery', 'publication_details': {'publisher': 'Goodwin Group', 'publication_year': 2009, 'ISBN': '978-0-348-26438-8'}, 'ratings': {'average_rating': 2.26, 'number_of_reviews': 284}}\n",
      "{'_id': ObjectId('68271df7af2027e095929698'), 'title': 'Open-architected intermediate emulation', 'author': {'name': 'Dana Lawrence', 'birth_year': 1998, 'nationality': 'Canadian'}, 'genre': 'Science Fiction', 'publication_details': {'publisher': 'Beck, Combs and Kemp', 'publication_year': 1983, 'ISBN': '978-1-233-88937-2'}, 'ratings': {'average_rating': 1.91, 'number_of_reviews': 283}}\n",
      "{'_id': ObjectId('68271df7af2027e095929699'), 'title': 'Reduced content-based task-force', 'author': {'name': 'Aaron Mcdonald', 'birth_year': 2000, 'nationality': 'Indian'}, 'genre': 'Fantasy', 'publication_details': {'publisher': 'Shields Ltd', 'publication_year': 1924, 'ISBN': '978-1-272-73518-0'}, 'ratings': {'average_rating': 3.69, 'number_of_reviews': 226}}\n",
      "{'_id': ObjectId('68271df7af2027e09592969a'), 'title': 'Quality-focused coherent concept', 'author': {'name': 'Linda Robertson', 'birth_year': 1991, 'nationality': 'American'}, 'genre': 'Nonfiction', 'publication_details': {'publisher': 'Perez, Johnson and Bartlett', 'publication_year': 2021, 'ISBN': '978-1-57306-784-3'}, 'ratings': {'average_rating': 4.73, 'number_of_reviews': 804}}\n",
      "{'_id': ObjectId('68271df7af2027e09592969b'), 'title': 'Diverse secondary artificial intelligence', 'author': {'name': 'Craig Payne', 'birth_year': 1993, 'nationality': 'Australian'}, 'genre': 'Nonfiction', 'publication_details': {'publisher': 'Figueroa Inc', 'publication_year': 2013, 'ISBN': '978-0-543-64160-1'}, 'ratings': {'average_rating': 4.81, 'number_of_reviews': 316}}\n",
      "{'_id': ObjectId('68271df7af2027e09592969c'), 'title': 'Organized explicit service-desk', 'author': {'name': 'Angela Aguilar', 'birth_year': 1992, 'nationality': 'American'}, 'genre': 'Nonfiction', 'publication_details': {'publisher': 'Ortiz Ltd', 'publication_year': 1942, 'ISBN': '978-0-431-41433-1'}, 'ratings': {'average_rating': 2.2, 'number_of_reviews': 918}}\n",
      "{'_id': ObjectId('68271df7af2027e09592969d'), 'title': 'Reactive 5thgeneration throughput', 'author': {'name': 'Cheryl Simpson', 'birth_year': 1995, 'nationality': 'Australian'}, 'genre': 'Thriller', 'publication_details': {'publisher': 'Richardson, Riggs and Boyer', 'publication_year': 1909, 'ISBN': '978-0-18-462713-2'}, 'ratings': {'average_rating': 3.27, 'number_of_reviews': 551}}\n",
      "{'_id': ObjectId('68271df7af2027e09592969e'), 'title': 'Intuitive methodical structure', 'author': {'name': 'Renee Dougherty', 'birth_year': 1997, 'nationality': 'Indian'}, 'genre': 'Mystery', 'publication_details': {'publisher': 'Mack Inc', 'publication_year': 1932, 'ISBN': '978-0-614-28064-7'}, 'ratings': {'average_rating': 4.18, 'number_of_reviews': 40}}\n",
      "{'_id': ObjectId('68271df7af2027e09592969f'), 'title': 'Extended asymmetric Graphical User Interface', 'author': {'name': 'Nicholas Clark', 'birth_year': 1998, 'nationality': 'British'}, 'genre': 'Fantasy', 'publication_details': {'publisher': 'Anderson LLC', 'publication_year': 1920, 'ISBN': '978-1-03-411746-9'}, 'ratings': {'average_rating': 4.16, 'number_of_reviews': 77}}\n",
      "{'_id': ObjectId('68271df7af2027e0959296a0'), 'title': 'Monitored composite interface', 'author': {'name': 'Shane Roberts', 'birth_year': 1992, 'nationality': 'Canadian'}, 'genre': 'Science Fiction', 'publication_details': {'publisher': 'Smith-Miller', 'publication_year': 2016, 'ISBN': '978-1-234-67883-8'}, 'ratings': {'average_rating': 1.8, 'number_of_reviews': 589}}\n",
      "{'_id': ObjectId('68271df7af2027e0959296a1'), 'title': 'Fundamental executive time-frame', 'author': {'name': 'Nathan Baker', 'birth_year': 1993, 'nationality': 'Indian'}, 'genre': 'Fantasy', 'publication_details': {'publisher': 'Rivera Group', 'publication_year': 1911, 'ISBN': '978-1-66786-939-1'}, 'ratings': {'average_rating': 2.55, 'number_of_reviews': 725}}\n",
      "{'_id': ObjectId('68271df7af2027e0959296a2'), 'title': 'Self-enabling context-sensitive project', 'author': {'name': 'Dennis Wu', 'birth_year': 2000, 'nationality': 'Indian'}, 'genre': 'Historical', 'publication_details': {'publisher': 'Ross-Hernandez', 'publication_year': 2021, 'ISBN': '978-1-270-87277-1'}, 'ratings': {'average_rating': 3.77, 'number_of_reviews': 265}}\n",
      "{'_id': ObjectId('68271df7af2027e0959296a3'), 'title': 'Decentralized client-driven website', 'author': {'name': 'Shawn Palmer Jr.', 'birth_year': 2000, 'nationality': 'American'}, 'genre': 'Science Fiction', 'publication_details': {'publisher': 'Becker Inc', 'publication_year': 1969, 'ISBN': '978-1-4302-6095-0'}, 'ratings': {'average_rating': 4.13, 'number_of_reviews': 919}}\n",
      "{'_id': ObjectId('68271df7af2027e0959296a4'), 'title': 'Face-to-face systemic monitoring', 'author': {'name': 'Joseph Taylor', 'birth_year': 1993, 'nationality': 'Australian'}, 'genre': 'Fantasy', 'publication_details': {'publisher': 'Johnson and Sons', 'publication_year': 1951, 'ISBN': '978-0-684-20365-2'}, 'ratings': {'average_rating': 3.54, 'number_of_reviews': 271}}\n",
      "{'_id': ObjectId('68271df7af2027e0959296a5'), 'title': 'Visionary multi-tasking encryption', 'author': {'name': 'Mark Johnson', 'birth_year': 1990, 'nationality': 'Australian'}, 'genre': 'Science Fiction', 'publication_details': {'publisher': 'Fields, Ward and Jones', 'publication_year': 1961, 'ISBN': '978-0-907304-26-5'}, 'ratings': {'average_rating': 2.16, 'number_of_reviews': 37}}\n",
      "{'_id': ObjectId('68271df7af2027e0959296a6'), 'title': 'Team-oriented executive policy', 'author': {'name': 'Alicia Spencer', 'birth_year': 1998, 'nationality': 'British'}, 'genre': 'Nonfiction', 'publication_details': {'publisher': 'Ray Inc', 'publication_year': 1949, 'ISBN': '978-0-05-501517-4'}, 'ratings': {'average_rating': 2.42, 'number_of_reviews': 389}}\n",
      "{'_id': ObjectId('68271df7af2027e0959296a7'), 'title': 'Digitized disintermediate time-frame', 'author': {'name': 'Derek Brown', 'birth_year': 1992, 'nationality': 'Australian'}, 'genre': 'Thriller', 'publication_details': {'publisher': 'Norris, Adams and Cross', 'publication_year': 1923, 'ISBN': '978-0-237-24627-3'}, 'ratings': {'average_rating': 1.48, 'number_of_reviews': 60}}\n",
      "{'_id': ObjectId('68271df7af2027e0959296a8'), 'title': 'Persistent bifurcated structure', 'author': {'name': 'Tina Woodard', 'birth_year': 1992, 'nationality': 'Canadian'}, 'genre': 'Thriller', 'publication_details': {'publisher': 'Villegas-Harris', 'publication_year': 1909, 'ISBN': '978-1-56125-481-1'}, 'ratings': {'average_rating': 2.64, 'number_of_reviews': 572}}\n",
      "{'_id': ObjectId('68271df7af2027e0959296a9'), 'title': 'Reduced object-oriented leverage', 'author': {'name': 'Debra Best', 'birth_year': 1991, 'nationality': 'American'}, 'genre': 'Mystery', 'publication_details': {'publisher': 'Ortiz-Lee', 'publication_year': 1983, 'ISBN': '978-0-619-21881-2'}, 'ratings': {'average_rating': 2.32, 'number_of_reviews': 216}}\n",
      "{'_id': ObjectId('68271df7af2027e0959296aa'), 'title': 'Compatible systematic standardization', 'author': {'name': 'Stacy Schaefer', 'birth_year': 2000, 'nationality': 'Australian'}, 'genre': 'Nonfiction', 'publication_details': {'publisher': 'Hansen-Donovan', 'publication_year': 2015, 'ISBN': '978-0-528-71706-2'}, 'ratings': {'average_rating': 1.13, 'number_of_reviews': 515}}\n",
      "{'_id': ObjectId('68271df7af2027e0959296ab'), 'title': 'Synergistic intangible matrix', 'author': {'name': 'Ashley Francis', 'birth_year': 1994, 'nationality': 'American'}, 'genre': 'Mystery', 'publication_details': {'publisher': 'Oliver, Hall and Jones', 'publication_year': 1982, 'ISBN': '978-1-4315-1351-2'}, 'ratings': {'average_rating': 3.13, 'number_of_reviews': 74}}\n",
      "{'_id': ObjectId('68271df7af2027e0959296ac'), 'title': 'Cross-group logistical synergy', 'author': {'name': 'Cameron Peterson', 'birth_year': 1993, 'nationality': 'British'}, 'genre': 'Science Fiction', 'publication_details': {'publisher': 'Franklin-Perez', 'publication_year': 1972, 'ISBN': '978-1-4710-5963-6'}, 'ratings': {'average_rating': 3.61, 'number_of_reviews': 834}}\n",
      "{'_id': ObjectId('68271df7af2027e0959296ad'), 'title': 'Vision-oriented 4thgeneration application', 'author': {'name': 'Jessica Archer', 'birth_year': 1990, 'nationality': 'Australian'}, 'genre': 'Historical', 'publication_details': {'publisher': 'Hood, Garcia and Lopez', 'publication_year': 1981, 'ISBN': '978-0-18-334846-5'}, 'ratings': {'average_rating': 3.72, 'number_of_reviews': 860}}\n",
      "{'_id': ObjectId('68271df7af2027e0959296ae'), 'title': 'Synergized mission-critical attitude', 'author': {'name': 'Danielle Brewer', 'birth_year': 1992, 'nationality': 'American'}, 'genre': 'Mystery', 'publication_details': {'publisher': 'Baker, Kim and Smith', 'publication_year': 1936, 'ISBN': '978-0-15-317669-2'}, 'ratings': {'average_rating': 2.96, 'number_of_reviews': 177}}\n",
      "{'_id': ObjectId('68271df7af2027e0959296af'), 'title': 'Seamless attitude-oriented functionalities', 'author': {'name': 'Matthew Bean', 'birth_year': 1998, 'nationality': 'American'}, 'genre': 'Nonfiction', 'publication_details': {'publisher': 'Farmer, Gomez and Carson', 'publication_year': 1939, 'ISBN': '978-1-888736-85-4'}, 'ratings': {'average_rating': 4.97, 'number_of_reviews': 262}}\n",
      "{'_id': ObjectId('68271df7af2027e0959296b0'), 'title': 'Switchable multimedia firmware', 'author': {'name': 'Cory Morton', 'birth_year': 1995, 'nationality': 'American'}, 'genre': 'Mystery', 'publication_details': {'publisher': 'Wright Inc', 'publication_year': 1974, 'ISBN': '978-1-56414-751-6'}, 'ratings': {'average_rating': 1.02, 'number_of_reviews': 485}}\n",
      "{'_id': ObjectId('68271df7af2027e0959296b1'), 'title': 'Multi-tiered maximized data-warehouse', 'author': {'name': 'Craig Martinez', 'birth_year': 1995, 'nationality': 'American'}, 'genre': 'Fantasy', 'publication_details': {'publisher': 'Jones, Gonzalez and Roberts', 'publication_year': 1917, 'ISBN': '978-1-995229-78-2'}, 'ratings': {'average_rating': 3.71, 'number_of_reviews': 479}}\n",
      "{'_id': ObjectId('68271df7af2027e0959296b2'), 'title': 'Reduced incremental middleware', 'author': {'name': 'Michael Middleton', 'birth_year': 1994, 'nationality': 'American'}, 'genre': 'Thriller', 'publication_details': {'publisher': 'Little Inc', 'publication_year': 2008, 'ISBN': '978-0-216-89799-1'}, 'ratings': {'average_rating': 4.49, 'number_of_reviews': 24}}\n",
      "{'_id': ObjectId('68271df7af2027e0959296b3'), 'title': 'Reactive bandwidth-monitored product', 'author': {'name': 'William Gilmore', 'birth_year': 1998, 'nationality': 'Canadian'}, 'genre': 'Mystery', 'publication_details': {'publisher': 'Robertson-Lang', 'publication_year': 2015, 'ISBN': '978-1-967871-24-7'}, 'ratings': {'average_rating': 1.13, 'number_of_reviews': 922}}\n",
      "{'_id': ObjectId('68271df7af2027e0959296b4'), 'title': 'Streamlined user-facing hardware', 'author': {'name': 'Christopher Burnett', 'birth_year': 2000, 'nationality': 'American'}, 'genre': 'Science Fiction', 'publication_details': {'publisher': 'Rangel Group', 'publication_year': 1936, 'ISBN': '978-0-7468-0777-4'}, 'ratings': {'average_rating': 2.5, 'number_of_reviews': 378}}\n",
      "{'_id': ObjectId('68271df7af2027e0959296b5'), 'title': 'Visionary systematic infrastructure', 'author': {'name': 'Jennifer Williams', 'birth_year': 2000, 'nationality': 'Canadian'}, 'genre': 'Science Fiction', 'publication_details': {'publisher': 'Hernandez, Harris and Harris', 'publication_year': 1970, 'ISBN': '978-0-14-600788-0'}, 'ratings': {'average_rating': 3.06, 'number_of_reviews': 376}}\n",
      "{'_id': ObjectId('68271df7af2027e0959296b6'), 'title': 'Optional grid-enabled hierarchy', 'author': {'name': 'Rebecca Henry', 'birth_year': 2000, 'nationality': 'British'}, 'genre': 'Fantasy', 'publication_details': {'publisher': 'Gallegos-Becker', 'publication_year': 2025, 'ISBN': '978-1-183-85572-4'}, 'ratings': {'average_rating': 1.74, 'number_of_reviews': 767}}\n",
      "{'_id': ObjectId('68271df7af2027e0959296b7'), 'title': 'Multi-layered 6thgeneration framework', 'author': {'name': 'Stuart Keller', 'birth_year': 1995, 'nationality': 'British'}, 'genre': 'Mystery', 'publication_details': {'publisher': 'Wood Inc', 'publication_year': 1970, 'ISBN': '978-1-79384-245-9'}, 'ratings': {'average_rating': 4.18, 'number_of_reviews': 497}}\n",
      "{'_id': ObjectId('68271df7af2027e0959296b8'), 'title': 'Team-oriented client-driven open system', 'author': {'name': 'Christine Reed', 'birth_year': 1994, 'nationality': 'Australian'}, 'genre': 'Thriller', 'publication_details': {'publisher': 'Moss, Colon and Edwards', 'publication_year': 2018, 'ISBN': '978-1-67917-812-2'}, 'ratings': {'average_rating': 1.2, 'number_of_reviews': 490}}\n",
      "{'_id': ObjectId('68271df7af2027e0959296b9'), 'title': 'Configurable reciprocal function', 'author': {'name': 'Tracy Henson', 'birth_year': 1997, 'nationality': 'British'}, 'genre': 'Nonfiction', 'publication_details': {'publisher': 'Warner and Sons', 'publication_year': 1914, 'ISBN': '978-0-687-92967-2'}, 'ratings': {'average_rating': 1.75, 'number_of_reviews': 111}}\n",
      "{'_id': ObjectId('68271df7af2027e0959296ba'), 'title': 'Enterprise-wide exuding software', 'author': {'name': 'Stephanie Cline', 'birth_year': 1997, 'nationality': 'British'}, 'genre': 'Fantasy', 'publication_details': {'publisher': 'Ramirez PLC', 'publication_year': 1929, 'ISBN': '978-0-454-50859-8'}, 'ratings': {'average_rating': 4.66, 'number_of_reviews': 843}}\n",
      "{'_id': ObjectId('68271df7af2027e0959296bb'), 'title': 'Upgradable zero administration solution', 'author': {'name': 'Thomas Sanders', 'birth_year': 1991, 'nationality': 'Australian'}, 'genre': 'Historical', 'publication_details': {'publisher': 'Gutierrez-Rowe', 'publication_year': 1904, 'ISBN': '978-0-679-99922-5'}, 'ratings': {'average_rating': 2.2, 'number_of_reviews': 507}}\n",
      "{'_id': ObjectId('68271df7af2027e0959296bc'), 'title': 'Switchable client-driven encoding', 'author': {'name': 'Elizabeth Skinner', 'birth_year': 1996, 'nationality': 'British'}, 'genre': 'Science Fiction', 'publication_details': {'publisher': 'Giles-Dawson', 'publication_year': 1907, 'ISBN': '978-1-945861-49-9'}, 'ratings': {'average_rating': 3.62, 'number_of_reviews': 204}}\n",
      "{'_id': ObjectId('68271df7af2027e0959296bd'), 'title': 'Customizable bifurcated open system', 'author': {'name': 'Nicholas Hernandez', 'birth_year': 1998, 'nationality': 'Indian'}, 'genre': 'Historical', 'publication_details': {'publisher': 'Gutierrez Ltd', 'publication_year': 1959, 'ISBN': '978-0-7206-7829-1'}, 'ratings': {'average_rating': 4.79, 'number_of_reviews': 136}}\n",
      "{'_id': ObjectId('68271df7af2027e0959296be'), 'title': 'Business-focused system-worthy algorithm', 'author': {'name': 'Brian Mercado', 'birth_year': 1995, 'nationality': 'American'}, 'genre': 'Thriller', 'publication_details': {'publisher': 'Jennings-Davis', 'publication_year': 1915, 'ISBN': '978-1-4515-1683-8'}, 'ratings': {'average_rating': 3.49, 'number_of_reviews': 716}}\n",
      "{'_id': ObjectId('68271df7af2027e0959296bf'), 'title': 'Down-sized asymmetric data-warehouse', 'author': {'name': 'Rachel Carpenter', 'birth_year': 1998, 'nationality': 'American'}, 'genre': 'Science Fiction', 'publication_details': {'publisher': 'Stewart-Chapman', 'publication_year': 1932, 'ISBN': '978-0-85409-918-4'}, 'ratings': {'average_rating': 2.46, 'number_of_reviews': 306}}\n",
      "{'_id': ObjectId('68271df7af2027e0959296c0'), 'title': 'Decentralized stable projection', 'author': {'name': 'Breanna Robinson', 'birth_year': 2000, 'nationality': 'British'}, 'genre': 'Historical', 'publication_details': {'publisher': 'Kelly, Lewis and Evans', 'publication_year': 1929, 'ISBN': '978-0-9594406-4-5'}, 'ratings': {'average_rating': 4.1, 'number_of_reviews': 130}}\n",
      "{'_id': ObjectId('68271df7af2027e0959296c1'), 'title': 'Profound upward-trending Local Area Network', 'author': {'name': 'David Merritt', 'birth_year': 1995, 'nationality': 'British'}, 'genre': 'Fantasy', 'publication_details': {'publisher': 'Smith LLC', 'publication_year': 1920, 'ISBN': '978-1-928140-04-7'}, 'ratings': {'average_rating': 4.95, 'number_of_reviews': 797}}\n",
      "{'_id': ObjectId('68271df7af2027e0959296c2'), 'title': 'Customer-focused object-oriented contingency', 'author': {'name': 'Felicia Hanson', 'birth_year': 1996, 'nationality': 'Canadian'}, 'genre': 'Thriller', 'publication_details': {'publisher': 'Rodriguez Ltd', 'publication_year': 1924, 'ISBN': '978-1-69713-219-9'}, 'ratings': {'average_rating': 1.0, 'number_of_reviews': 860}}\n",
      "{'_id': ObjectId('68271df7af2027e0959296c3'), 'title': 'Networked systematic time-frame', 'author': {'name': 'David Young', 'birth_year': 1997, 'nationality': 'British'}, 'genre': 'Thriller', 'publication_details': {'publisher': 'Adams, Carson and Hernandez', 'publication_year': 1903, 'ISBN': '978-0-88633-898-5'}, 'ratings': {'average_rating': 1.86, 'number_of_reviews': 902}}\n",
      "{'_id': ObjectId('68271df7af2027e0959296c4'), 'title': 'Reduced mobile encryption', 'author': {'name': 'Andrea Hoover', 'birth_year': 1999, 'nationality': 'American'}, 'genre': 'Historical', 'publication_details': {'publisher': 'Pope, Davis and Anderson', 'publication_year': 2022, 'ISBN': '978-1-5499-3869-6'}, 'ratings': {'average_rating': 2.25, 'number_of_reviews': 333}}\n",
      "{'_id': ObjectId('68271df7af2027e0959296c5'), 'title': 'Reverse-engineered zero tolerance hierarchy', 'author': {'name': 'Jacqueline Hicks', 'birth_year': 1994, 'nationality': 'Canadian'}, 'genre': 'Science Fiction', 'publication_details': {'publisher': 'Rodriguez PLC', 'publication_year': 1992, 'ISBN': '978-1-04-660565-7'}, 'ratings': {'average_rating': 2.22, 'number_of_reviews': 206}}\n",
      "{'_id': ObjectId('68271df7af2027e0959296c6'), 'title': 'Quality-focused background emulation', 'author': {'name': 'Christine Parker', 'birth_year': 1999, 'nationality': 'American'}, 'genre': 'Historical', 'publication_details': {'publisher': 'Anderson-Hill', 'publication_year': 1955, 'ISBN': '978-1-175-40111-3'}, 'ratings': {'average_rating': 2.87, 'number_of_reviews': 962}}\n",
      "{'_id': ObjectId('68271df7af2027e0959296c7'), 'title': 'Operative well-modulated capability', 'author': {'name': 'Beth Cruz', 'birth_year': 1996, 'nationality': 'American'}, 'genre': 'Thriller', 'publication_details': {'publisher': 'Kim-Walker', 'publication_year': 1903, 'ISBN': '978-1-65735-027-4'}, 'ratings': {'average_rating': 3.08, 'number_of_reviews': 940}}\n",
      "{'_id': ObjectId('68271df7af2027e0959296c8'), 'title': 'Multi-channeled optimal core', 'author': {'name': 'Patrick Roth', 'birth_year': 1992, 'nationality': 'American'}, 'genre': 'Science Fiction', 'publication_details': {'publisher': 'Young-Clay', 'publication_year': 1943, 'ISBN': '978-0-09-037591-2'}, 'ratings': {'average_rating': 1.05, 'number_of_reviews': 931}}\n",
      "{'_id': ObjectId('68271df7af2027e0959296c9'), 'title': 'Upgradable didactic approach', 'author': {'name': 'Karen Perez', 'birth_year': 2000, 'nationality': 'Australian'}, 'genre': 'Fantasy', 'publication_details': {'publisher': 'Lang, Miles and Lawrence', 'publication_year': 1935, 'ISBN': '978-1-4161-9712-6'}, 'ratings': {'average_rating': 3.56, 'number_of_reviews': 398}}\n",
      "{'_id': ObjectId('68271df7af2027e0959296ca'), 'title': 'Universal client-driven website', 'author': {'name': 'Dana Hernandez', 'birth_year': 1998, 'nationality': 'Indian'}, 'genre': 'Nonfiction', 'publication_details': {'publisher': 'Clark and Sons', 'publication_year': 2001, 'ISBN': '978-0-377-55958-5'}, 'ratings': {'average_rating': 4.56, 'number_of_reviews': 459}}\n",
      "{'_id': ObjectId('68271df7af2027e0959296cb'), 'title': 'Persevering transitional instruction set', 'author': {'name': 'Philip Mcdaniel', 'birth_year': 1992, 'nationality': 'Canadian'}, 'genre': 'Science Fiction', 'publication_details': {'publisher': 'Harvey-Holt', 'publication_year': 1982, 'ISBN': '978-0-440-10698-2'}, 'ratings': {'average_rating': 1.38, 'number_of_reviews': 748}}\n",
      "{'_id': ObjectId('68271df7af2027e0959296cc'), 'title': 'Secured demand-driven help-desk', 'author': {'name': 'Stephen Blankenship', 'birth_year': 1998, 'nationality': 'Canadian'}, 'genre': 'Historical', 'publication_details': {'publisher': 'Butler Ltd', 'publication_year': 1950, 'ISBN': '978-1-04-626515-8'}, 'ratings': {'average_rating': 4.66, 'number_of_reviews': 94}}\n",
      "{'_id': ObjectId('68271df7af2027e0959296cd'), 'title': 'Front-line dedicated approach', 'author': {'name': 'Colin Wright', 'birth_year': 1991, 'nationality': 'Australian'}, 'genre': 'Science Fiction', 'publication_details': {'publisher': 'Edwards-Murray', 'publication_year': 2020, 'ISBN': '978-0-283-34883-9'}, 'ratings': {'average_rating': 2.93, 'number_of_reviews': 381}}\n",
      "{'_id': ObjectId('68271df7af2027e0959296ce'), 'title': 'Future-proofed uniform emulation', 'author': {'name': 'Jessica Crawford', 'birth_year': 1997, 'nationality': 'Indian'}, 'genre': 'Science Fiction', 'publication_details': {'publisher': 'Thompson-Lopez', 'publication_year': 1986, 'ISBN': '978-0-388-10983-0'}, 'ratings': {'average_rating': 1.68, 'number_of_reviews': 427}}\n",
      "{'_id': ObjectId('68271df7af2027e0959296cf'), 'title': 'Total system-worthy system engine', 'author': {'name': 'Spencer Griffin', 'birth_year': 1993, 'nationality': 'Indian'}, 'genre': 'Fantasy', 'publication_details': {'publisher': 'Robinson PLC', 'publication_year': 1971, 'ISBN': '978-0-398-82729-8'}, 'ratings': {'average_rating': 1.96, 'number_of_reviews': 337}}\n",
      "{'_id': ObjectId('68271df7af2027e0959296d0'), 'title': 'Profound asynchronous array', 'author': {'name': 'James Kennedy', 'birth_year': 1994, 'nationality': 'Indian'}, 'genre': 'Thriller', 'publication_details': {'publisher': 'Whitaker, Wilson and Ortiz', 'publication_year': 1950, 'ISBN': '978-1-82114-175-2'}, 'ratings': {'average_rating': 1.62, 'number_of_reviews': 343}}\n",
      "{'_id': ObjectId('68271df7af2027e0959296d1'), 'title': 'Grass-roots empowering approach', 'author': {'name': 'Lisa Meyers', 'birth_year': 1993, 'nationality': 'American'}, 'genre': 'Nonfiction', 'publication_details': {'publisher': 'Hicks, Wise and Cole', 'publication_year': 2023, 'ISBN': '978-1-59931-329-0'}, 'ratings': {'average_rating': 2.54, 'number_of_reviews': 55}}\n",
      "{'_id': ObjectId('68271df7af2027e0959296d2'), 'title': 'Balanced secondary pricing structure', 'author': {'name': 'Sandra Cervantes', 'birth_year': 1994, 'nationality': 'British'}, 'genre': 'Historical', 'publication_details': {'publisher': 'Beard, Pierce and Allen', 'publication_year': 1999, 'ISBN': '978-1-236-11641-3'}, 'ratings': {'average_rating': 3.94, 'number_of_reviews': 465}}\n",
      "{'_id': ObjectId('68271df7af2027e0959296d3'), 'title': 'Expanded zero tolerance benchmark', 'author': {'name': 'Ricardo Romero', 'birth_year': 1995, 'nationality': 'American'}, 'genre': 'Nonfiction', 'publication_details': {'publisher': 'Little, Martin and Delgado', 'publication_year': 1944, 'ISBN': '978-1-4613-1086-0'}, 'ratings': {'average_rating': 3.88, 'number_of_reviews': 462}}\n",
      "{'_id': ObjectId('68271df7af2027e0959296d4'), 'title': 'Phased executive website', 'author': {'name': 'Jessica Torres', 'birth_year': 1990, 'nationality': 'Canadian'}, 'genre': 'Mystery', 'publication_details': {'publisher': 'Carter-Zavala', 'publication_year': 1970, 'ISBN': '978-0-7672-1659-3'}, 'ratings': {'average_rating': 1.63, 'number_of_reviews': 166}}\n",
      "{'_id': ObjectId('68271df7af2027e0959296d5'), 'title': 'Reactive didactic pricing structure', 'author': {'name': 'Desiree Payne', 'birth_year': 1996, 'nationality': 'Australian'}, 'genre': 'Science Fiction', 'publication_details': {'publisher': 'Moore PLC', 'publication_year': 1979, 'ISBN': '978-0-7522-9640-1'}, 'ratings': {'average_rating': 2.92, 'number_of_reviews': 868}}\n",
      "{'_id': ObjectId('68271df7af2027e0959296d6'), 'title': 'Future-proofed executive alliance', 'author': {'name': 'Drew Goodwin', 'birth_year': 1995, 'nationality': 'Indian'}, 'genre': 'Nonfiction', 'publication_details': {'publisher': 'Mason Group', 'publication_year': 1944, 'ISBN': '978-0-282-26450-5'}, 'ratings': {'average_rating': 2.87, 'number_of_reviews': 797}}\n",
      "{'_id': ObjectId('68271df7af2027e0959296d7'), 'title': 'Re-contextualized multi-tasking strategy', 'author': {'name': 'Kenneth Costa', 'birth_year': 1992, 'nationality': 'Indian'}, 'genre': 'Mystery', 'publication_details': {'publisher': 'Green Ltd', 'publication_year': 1962, 'ISBN': '978-0-04-961559-5'}, 'ratings': {'average_rating': 4.49, 'number_of_reviews': 725}}\n",
      "{'_id': ObjectId('68271df7af2027e0959296d8'), 'title': 'Streamlined asynchronous neural-net', 'author': {'name': 'Christopher Davis', 'birth_year': 1990, 'nationality': 'American'}, 'genre': 'Nonfiction', 'publication_details': {'publisher': 'Rasmussen-Wheeler', 'publication_year': 1964, 'ISBN': '978-1-211-56165-8'}, 'ratings': {'average_rating': 1.36, 'number_of_reviews': 63}}\n",
      "{'_id': ObjectId('68271df7af2027e0959296d9'), 'title': 'Universal dynamic website', 'author': {'name': 'David Weaver', 'birth_year': 1993, 'nationality': 'American'}, 'genre': 'Fantasy', 'publication_details': {'publisher': 'Morris, Fernandez and Avery', 'publication_year': 1958, 'ISBN': '978-1-75849-226-2'}, 'ratings': {'average_rating': 3.65, 'number_of_reviews': 374}}\n",
      "{'_id': ObjectId('68271df7af2027e0959296da'), 'title': 'Multi-lateral actuating array', 'author': {'name': 'Rodney Fitzgerald', 'birth_year': 1995, 'nationality': 'Canadian'}, 'genre': 'Science Fiction', 'publication_details': {'publisher': 'James-Cervantes', 'publication_year': 2018, 'ISBN': '978-1-898663-31-7'}, 'ratings': {'average_rating': 1.89, 'number_of_reviews': 37}}\n",
      "{'_id': ObjectId('68271df7af2027e0959296db'), 'title': 'Open-architected empowering infrastructure', 'author': {'name': 'Carrie Banks', 'birth_year': 1998, 'nationality': 'Indian'}, 'genre': 'Fantasy', 'publication_details': {'publisher': 'Sexton-Moreno', 'publication_year': 1975, 'ISBN': '978-0-633-77258-1'}, 'ratings': {'average_rating': 2.11, 'number_of_reviews': 916}}\n",
      "{'_id': ObjectId('68271df7af2027e0959296dc'), 'title': 'Integrated homogeneous migration', 'author': {'name': 'Evan Mcconnell', 'birth_year': 2000, 'nationality': 'Indian'}, 'genre': 'Mystery', 'publication_details': {'publisher': 'Walton LLC', 'publication_year': 1977, 'ISBN': '978-0-213-09412-6'}, 'ratings': {'average_rating': 2.28, 'number_of_reviews': 863}}\n",
      "{'_id': ObjectId('68271df7af2027e0959296dd'), 'title': 'Digitized demand-driven task-force', 'author': {'name': 'Kyle Miller', 'birth_year': 1999, 'nationality': 'American'}, 'genre': 'Historical', 'publication_details': {'publisher': 'Bell Group', 'publication_year': 1949, 'ISBN': '978-0-949205-54-4'}, 'ratings': {'average_rating': 1.72, 'number_of_reviews': 707}}\n",
      "{'_id': ObjectId('68271df7af2027e0959296de'), 'title': 'Right-sized modular circuit', 'author': {'name': 'James Lee', 'birth_year': 1995, 'nationality': 'Canadian'}, 'genre': 'Thriller', 'publication_details': {'publisher': 'Holmes and Sons', 'publication_year': 1998, 'ISBN': '978-1-85196-581-6'}, 'ratings': {'average_rating': 2.3, 'number_of_reviews': 940}}\n",
      "{'_id': ObjectId('68271df7af2027e0959296df'), 'title': 'Optional dynamic moderator', 'author': {'name': 'Julia Wheeler', 'birth_year': 1994, 'nationality': 'American'}, 'genre': 'Nonfiction', 'publication_details': {'publisher': 'Hawkins Group', 'publication_year': 1977, 'ISBN': '978-0-19-864083-7'}, 'ratings': {'average_rating': 2.05, 'number_of_reviews': 855}}\n",
      "{'_id': ObjectId('68271df7af2027e0959296e0'), 'title': 'Phased solution-oriented archive', 'author': {'name': 'Jessica Kent', 'birth_year': 1990, 'nationality': 'Canadian'}, 'genre': 'Science Fiction', 'publication_details': {'publisher': 'Smith-Howell', 'publication_year': 1965, 'ISBN': '978-1-371-39534-6'}, 'ratings': {'average_rating': 4.66, 'number_of_reviews': 78}}\n",
      "{'_id': ObjectId('68271df7af2027e0959296e1'), 'title': 'Mandatory bandwidth-monitored challenge', 'author': {'name': 'Kristin Green', 'birth_year': 1996, 'nationality': 'British'}, 'genre': 'Historical', 'publication_details': {'publisher': 'Blackburn-Wright', 'publication_year': 1998, 'ISBN': '978-1-5361-8623-9'}, 'ratings': {'average_rating': 3.74, 'number_of_reviews': 213}}\n",
      "{'_id': ObjectId('68271df7af2027e0959296e2'), 'title': 'Networked analyzing structure', 'author': {'name': 'Nathaniel Greer', 'birth_year': 2000, 'nationality': 'British'}, 'genre': 'Nonfiction', 'publication_details': {'publisher': 'Smith-Wagner', 'publication_year': 1969, 'ISBN': '978-0-11-922470-2'}, 'ratings': {'average_rating': 1.36, 'number_of_reviews': 255}}\n",
      "{'_id': ObjectId('68271df7af2027e0959296e3'), 'title': 'Multi-channeled well-modulated infrastructure', 'author': {'name': 'Larry Roberson', 'birth_year': 1998, 'nationality': 'British'}, 'genre': 'Science Fiction', 'publication_details': {'publisher': 'Hall LLC', 'publication_year': 1959, 'ISBN': '978-0-302-86739-6'}, 'ratings': {'average_rating': 4.3, 'number_of_reviews': 302}}\n",
      "{'_id': ObjectId('68271df7af2027e0959296e4'), 'title': 'Customizable dedicated customer loyalty', 'author': {'name': 'Michael Hughes', 'birth_year': 1991, 'nationality': 'American'}, 'genre': 'Historical', 'publication_details': {'publisher': 'Morgan-Butler', 'publication_year': 1958, 'ISBN': '978-1-83229-097-5'}, 'ratings': {'average_rating': 2.55, 'number_of_reviews': 819}}\n",
      "{'_id': ObjectId('68271df7af2027e0959296e5'), 'title': 'Digitized systematic artificial intelligence', 'author': {'name': 'Joel Christian', 'birth_year': 1997, 'nationality': 'Australian'}, 'genre': 'Mystery', 'publication_details': {'publisher': 'Cox PLC', 'publication_year': 1995, 'ISBN': '978-1-84609-640-2'}, 'ratings': {'average_rating': 2.9, 'number_of_reviews': 645}}\n",
      "{'_id': ObjectId('68271df7af2027e0959296e6'), 'title': 'Mandatory tertiary standardization', 'author': {'name': 'Victoria Sims', 'birth_year': 1994, 'nationality': 'Indian'}, 'genre': 'Fantasy', 'publication_details': {'publisher': 'Williams, Collins and Moore', 'publication_year': 1945, 'ISBN': '978-0-444-25305-7'}, 'ratings': {'average_rating': 3.33, 'number_of_reviews': 157}}\n",
      "{'_id': ObjectId('68271df7af2027e0959296e7'), 'title': 'Harry Potter and the Deathly Hallows', 'author': 'J.K. Rowling', 'genre': 'Fantasy', 'publication_year': 2007}\n",
      "{'_id': ObjectId('68271df7af2027e0959296e8'), 'title': 'The Book Thief', 'author': 'Markus Zusak', 'genre': 'Mystery', 'publication_year': 2007}\n"
     ]
    }
   ],
   "source": [
    "query_all_books(collection)"
   ]
  },
  {
   "cell_type": "code",
   "execution_count": 13,
   "id": "e4212f5d",
   "metadata": {},
   "outputs": [
    {
     "name": "stdout",
     "output_type": "stream",
     "text": [
      "Books in genre Fantasy:\n",
      "{'_id': ObjectId('68271df7af2027e095929688'), 'title': 'Object-based fresh-thinking database', 'author': {'name': 'Brian Heath', 'birth_year': 1997, 'nationality': 'British'}, 'genre': 'Fantasy', 'publication_details': {'publisher': 'Lawrence-Nguyen', 'publication_year': 1903, 'ISBN': '978-0-8079-9730-7'}, 'ratings': {'average_rating': 1.52, 'number_of_reviews': 715}}\n",
      "{'_id': ObjectId('68271df7af2027e09592968b'), 'title': 'Multi-lateral attitude-oriented approach', 'author': {'name': 'Jennifer Wade', 'birth_year': 1993, 'nationality': 'Canadian'}, 'genre': 'Fantasy', 'publication_details': {'publisher': 'Gallegos Ltd', 'publication_year': 1909, 'ISBN': '978-1-58351-078-0'}, 'ratings': {'average_rating': 2.63, 'number_of_reviews': 673}}\n",
      "{'_id': ObjectId('68271df7af2027e09592968f'), 'title': 'Realigned contextually-based system engine', 'author': {'name': 'Calvin Bradley', 'birth_year': 1998, 'nationality': 'British'}, 'genre': 'Fantasy', 'publication_details': {'publisher': 'Case, Johnson and Williams', 'publication_year': 1947, 'ISBN': '978-0-432-24966-6'}, 'ratings': {'average_rating': 1.42, 'number_of_reviews': 992}}\n",
      "{'_id': ObjectId('68271df7af2027e095929699'), 'title': 'Reduced content-based task-force', 'author': {'name': 'Aaron Mcdonald', 'birth_year': 2000, 'nationality': 'Indian'}, 'genre': 'Fantasy', 'publication_details': {'publisher': 'Shields Ltd', 'publication_year': 1924, 'ISBN': '978-1-272-73518-0'}, 'ratings': {'average_rating': 3.69, 'number_of_reviews': 226}}\n",
      "{'_id': ObjectId('68271df7af2027e09592969f'), 'title': 'Extended asymmetric Graphical User Interface', 'author': {'name': 'Nicholas Clark', 'birth_year': 1998, 'nationality': 'British'}, 'genre': 'Fantasy', 'publication_details': {'publisher': 'Anderson LLC', 'publication_year': 1920, 'ISBN': '978-1-03-411746-9'}, 'ratings': {'average_rating': 4.16, 'number_of_reviews': 77}}\n",
      "{'_id': ObjectId('68271df7af2027e0959296a1'), 'title': 'Fundamental executive time-frame', 'author': {'name': 'Nathan Baker', 'birth_year': 1993, 'nationality': 'Indian'}, 'genre': 'Fantasy', 'publication_details': {'publisher': 'Rivera Group', 'publication_year': 1911, 'ISBN': '978-1-66786-939-1'}, 'ratings': {'average_rating': 2.55, 'number_of_reviews': 725}}\n",
      "{'_id': ObjectId('68271df7af2027e0959296a4'), 'title': 'Face-to-face systemic monitoring', 'author': {'name': 'Joseph Taylor', 'birth_year': 1993, 'nationality': 'Australian'}, 'genre': 'Fantasy', 'publication_details': {'publisher': 'Johnson and Sons', 'publication_year': 1951, 'ISBN': '978-0-684-20365-2'}, 'ratings': {'average_rating': 3.54, 'number_of_reviews': 271}}\n",
      "{'_id': ObjectId('68271df7af2027e0959296b1'), 'title': 'Multi-tiered maximized data-warehouse', 'author': {'name': 'Craig Martinez', 'birth_year': 1995, 'nationality': 'American'}, 'genre': 'Fantasy', 'publication_details': {'publisher': 'Jones, Gonzalez and Roberts', 'publication_year': 1917, 'ISBN': '978-1-995229-78-2'}, 'ratings': {'average_rating': 3.71, 'number_of_reviews': 479}}\n",
      "{'_id': ObjectId('68271df7af2027e0959296b6'), 'title': 'Optional grid-enabled hierarchy', 'author': {'name': 'Rebecca Henry', 'birth_year': 2000, 'nationality': 'British'}, 'genre': 'Fantasy', 'publication_details': {'publisher': 'Gallegos-Becker', 'publication_year': 2025, 'ISBN': '978-1-183-85572-4'}, 'ratings': {'average_rating': 1.74, 'number_of_reviews': 767}}\n",
      "{'_id': ObjectId('68271df7af2027e0959296ba'), 'title': 'Enterprise-wide exuding software', 'author': {'name': 'Stephanie Cline', 'birth_year': 1997, 'nationality': 'British'}, 'genre': 'Fantasy', 'publication_details': {'publisher': 'Ramirez PLC', 'publication_year': 1929, 'ISBN': '978-0-454-50859-8'}, 'ratings': {'average_rating': 4.66, 'number_of_reviews': 843}}\n",
      "{'_id': ObjectId('68271df7af2027e0959296c1'), 'title': 'Profound upward-trending Local Area Network', 'author': {'name': 'David Merritt', 'birth_year': 1995, 'nationality': 'British'}, 'genre': 'Fantasy', 'publication_details': {'publisher': 'Smith LLC', 'publication_year': 1920, 'ISBN': '978-1-928140-04-7'}, 'ratings': {'average_rating': 4.95, 'number_of_reviews': 797}}\n",
      "{'_id': ObjectId('68271df7af2027e0959296c9'), 'title': 'Upgradable didactic approach', 'author': {'name': 'Karen Perez', 'birth_year': 2000, 'nationality': 'Australian'}, 'genre': 'Fantasy', 'publication_details': {'publisher': 'Lang, Miles and Lawrence', 'publication_year': 1935, 'ISBN': '978-1-4161-9712-6'}, 'ratings': {'average_rating': 3.56, 'number_of_reviews': 398}}\n",
      "{'_id': ObjectId('68271df7af2027e0959296cf'), 'title': 'Total system-worthy system engine', 'author': {'name': 'Spencer Griffin', 'birth_year': 1993, 'nationality': 'Indian'}, 'genre': 'Fantasy', 'publication_details': {'publisher': 'Robinson PLC', 'publication_year': 1971, 'ISBN': '978-0-398-82729-8'}, 'ratings': {'average_rating': 1.96, 'number_of_reviews': 337}}\n",
      "{'_id': ObjectId('68271df7af2027e0959296d9'), 'title': 'Universal dynamic website', 'author': {'name': 'David Weaver', 'birth_year': 1993, 'nationality': 'American'}, 'genre': 'Fantasy', 'publication_details': {'publisher': 'Morris, Fernandez and Avery', 'publication_year': 1958, 'ISBN': '978-1-75849-226-2'}, 'ratings': {'average_rating': 3.65, 'number_of_reviews': 374}}\n",
      "{'_id': ObjectId('68271df7af2027e0959296db'), 'title': 'Open-architected empowering infrastructure', 'author': {'name': 'Carrie Banks', 'birth_year': 1998, 'nationality': 'Indian'}, 'genre': 'Fantasy', 'publication_details': {'publisher': 'Sexton-Moreno', 'publication_year': 1975, 'ISBN': '978-0-633-77258-1'}, 'ratings': {'average_rating': 2.11, 'number_of_reviews': 916}}\n",
      "{'_id': ObjectId('68271df7af2027e0959296e6'), 'title': 'Mandatory tertiary standardization', 'author': {'name': 'Victoria Sims', 'birth_year': 1994, 'nationality': 'Indian'}, 'genre': 'Fantasy', 'publication_details': {'publisher': 'Williams, Collins and Moore', 'publication_year': 1945, 'ISBN': '978-0-444-25305-7'}, 'ratings': {'average_rating': 3.33, 'number_of_reviews': 157}}\n",
      "{'_id': ObjectId('68271df7af2027e0959296e7'), 'title': 'Harry Potter and the Deathly Hallows', 'author': 'J.K. Rowling', 'genre': 'Fantasy', 'publication_year': 2007}\n"
     ]
    }
   ],
   "source": [
    "query_books_by_genre(collection, \"Fantasy\")"
   ]
  },
  {
   "cell_type": "markdown",
   "id": "4b560a45",
   "metadata": {},
   "source": [
    "We can see that, even though the inserted documents have different schema structures, MongoDB manages them effectively because the database doesn't enforce rigid schema requirements."
   ]
  },
  {
   "cell_type": "markdown",
   "id": "1b63bdcb",
   "metadata": {},
   "source": [
    "#### 5.3. Update data"
   ]
  },
  {
   "cell_type": "code",
   "execution_count": 14,
   "id": "edaa1122",
   "metadata": {},
   "outputs": [
    {
     "name": "stdout",
     "output_type": "stream",
     "text": [
      "Updated Book: {'_id': ObjectId('68271df7af2027e0959296e8'), 'title': 'The Book Thief', 'author': 'Markus Zusak', 'genre': 'Mystery', 'publication_year': 2007}\n"
     ]
    }
   ],
   "source": [
    "update_book_publication_year(collection, \"The Book Thief\", 2007)"
   ]
  },
  {
   "cell_type": "markdown",
   "id": "81eade2c",
   "metadata": {},
   "source": [
    "#### 5.4. Delete data"
   ]
  },
  {
   "cell_type": "code",
   "execution_count": 15,
   "id": "31ea007b",
   "metadata": {},
   "outputs": [
    {
     "name": "stdout",
     "output_type": "stream",
     "text": [
      "Book is deleted\n"
     ]
    }
   ],
   "source": [
    "delete_book_by_title(collection, \"Inferno\")"
   ]
  },
  {
   "cell_type": "code",
   "execution_count": 16,
   "id": "1c9b1a9e",
   "metadata": {},
   "outputs": [
    {
     "name": "stdout",
     "output_type": "stream",
     "text": [
      "All books have been deleted.\n"
     ]
    }
   ],
   "source": [
    "delete_all_books(collection)"
   ]
  }
 ],
 "metadata": {
  "kernelspec": {
   "display_name": ".venv",
   "language": "python",
   "name": "python3"
  },
  "language_info": {
   "codemirror_mode": {
    "name": "ipython",
    "version": 3
   },
   "file_extension": ".py",
   "mimetype": "text/x-python",
   "name": "python",
   "nbconvert_exporter": "python",
   "pygments_lexer": "ipython3",
   "version": "3.12.6"
  }
 },
 "nbformat": 4,
 "nbformat_minor": 5
}
